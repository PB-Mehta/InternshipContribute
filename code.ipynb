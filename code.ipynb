{
 "cells": [
  {
   "cell_type": "code",
   "execution_count": 81,
   "metadata": {},
   "outputs": [],
   "source": [
    "import pandas as pd "
   ]
  },
  {
   "cell_type": "code",
   "execution_count": 82,
   "metadata": {},
   "outputs": [],
   "source": [
    "df=pd.read_csv(\"^NSEI.csv\")"
   ]
  },
  {
   "cell_type": "code",
   "execution_count": 83,
   "metadata": {},
   "outputs": [
    {
     "data": {
      "text/html": [
       "<div>\n",
       "<style scoped>\n",
       "    .dataframe tbody tr th:only-of-type {\n",
       "        vertical-align: middle;\n",
       "    }\n",
       "\n",
       "    .dataframe tbody tr th {\n",
       "        vertical-align: top;\n",
       "    }\n",
       "\n",
       "    .dataframe thead th {\n",
       "        text-align: right;\n",
       "    }\n",
       "</style>\n",
       "<table border=\"1\" class=\"dataframe\">\n",
       "  <thead>\n",
       "    <tr style=\"text-align: right;\">\n",
       "      <th></th>\n",
       "      <th>Date</th>\n",
       "      <th>Open</th>\n",
       "      <th>High</th>\n",
       "      <th>Low</th>\n",
       "      <th>Close</th>\n",
       "      <th>Adj Close</th>\n",
       "      <th>Volume</th>\n",
       "    </tr>\n",
       "  </thead>\n",
       "  <tbody>\n",
       "    <tr>\n",
       "      <th>0</th>\n",
       "      <td>2018-04-30</td>\n",
       "      <td>10705.750000</td>\n",
       "      <td>10784.650391</td>\n",
       "      <td>10601.599609</td>\n",
       "      <td>10618.250000</td>\n",
       "      <td>10618.250000</td>\n",
       "      <td>775200</td>\n",
       "    </tr>\n",
       "    <tr>\n",
       "      <th>1</th>\n",
       "      <td>2018-05-07</td>\n",
       "      <td>10653.150391</td>\n",
       "      <td>10812.049805</td>\n",
       "      <td>10635.650391</td>\n",
       "      <td>10806.500000</td>\n",
       "      <td>10806.500000</td>\n",
       "      <td>1048800</td>\n",
       "    </tr>\n",
       "    <tr>\n",
       "      <th>2</th>\n",
       "      <td>2018-05-14</td>\n",
       "      <td>10815.150391</td>\n",
       "      <td>10929.200195</td>\n",
       "      <td>10589.099609</td>\n",
       "      <td>10596.400391</td>\n",
       "      <td>10596.400391</td>\n",
       "      <td>1093900</td>\n",
       "    </tr>\n",
       "    <tr>\n",
       "      <th>3</th>\n",
       "      <td>2018-05-21</td>\n",
       "      <td>10616.700195</td>\n",
       "      <td>10628.049805</td>\n",
       "      <td>10417.799805</td>\n",
       "      <td>10605.150391</td>\n",
       "      <td>10605.150391</td>\n",
       "      <td>1091000</td>\n",
       "    </tr>\n",
       "    <tr>\n",
       "      <th>4</th>\n",
       "      <td>2018-05-28</td>\n",
       "      <td>10648.349609</td>\n",
       "      <td>10764.750000</td>\n",
       "      <td>10558.450195</td>\n",
       "      <td>10696.200195</td>\n",
       "      <td>10696.200195</td>\n",
       "      <td>1528000</td>\n",
       "    </tr>\n",
       "    <tr>\n",
       "      <th>...</th>\n",
       "      <td>...</td>\n",
       "      <td>...</td>\n",
       "      <td>...</td>\n",
       "      <td>...</td>\n",
       "      <td>...</td>\n",
       "      <td>...</td>\n",
       "      <td>...</td>\n",
       "    </tr>\n",
       "    <tr>\n",
       "      <th>256</th>\n",
       "      <td>2023-03-27</td>\n",
       "      <td>16984.300781</td>\n",
       "      <td>17381.599609</td>\n",
       "      <td>16913.750000</td>\n",
       "      <td>17359.750000</td>\n",
       "      <td>17359.750000</td>\n",
       "      <td>1067000</td>\n",
       "    </tr>\n",
       "    <tr>\n",
       "      <th>257</th>\n",
       "      <td>2023-04-03</td>\n",
       "      <td>17427.949219</td>\n",
       "      <td>17638.699219</td>\n",
       "      <td>17312.750000</td>\n",
       "      <td>17599.150391</td>\n",
       "      <td>17599.150391</td>\n",
       "      <td>721200</td>\n",
       "    </tr>\n",
       "    <tr>\n",
       "      <th>258</th>\n",
       "      <td>2023-04-10</td>\n",
       "      <td>17634.900391</td>\n",
       "      <td>17842.150391</td>\n",
       "      <td>17597.949219</td>\n",
       "      <td>17828.000000</td>\n",
       "      <td>17828.000000</td>\n",
       "      <td>1077700</td>\n",
       "    </tr>\n",
       "    <tr>\n",
       "      <th>259</th>\n",
       "      <td>2023-04-17</td>\n",
       "      <td>17863.000000</td>\n",
       "      <td>17863.000000</td>\n",
       "      <td>17553.949219</td>\n",
       "      <td>17624.050781</td>\n",
       "      <td>17624.050781</td>\n",
       "      <td>1343100</td>\n",
       "    </tr>\n",
       "    <tr>\n",
       "      <th>260</th>\n",
       "      <td>2023-04-24</td>\n",
       "      <td>17707.550781</td>\n",
       "      <td>17931.599609</td>\n",
       "      <td>17612.500000</td>\n",
       "      <td>17915.050781</td>\n",
       "      <td>17915.050781</td>\n",
       "      <td>1027500</td>\n",
       "    </tr>\n",
       "  </tbody>\n",
       "</table>\n",
       "<p>261 rows × 7 columns</p>\n",
       "</div>"
      ],
      "text/plain": [
       "           Date          Open          High           Low         Close  \\\n",
       "0    2018-04-30  10705.750000  10784.650391  10601.599609  10618.250000   \n",
       "1    2018-05-07  10653.150391  10812.049805  10635.650391  10806.500000   \n",
       "2    2018-05-14  10815.150391  10929.200195  10589.099609  10596.400391   \n",
       "3    2018-05-21  10616.700195  10628.049805  10417.799805  10605.150391   \n",
       "4    2018-05-28  10648.349609  10764.750000  10558.450195  10696.200195   \n",
       "..          ...           ...           ...           ...           ...   \n",
       "256  2023-03-27  16984.300781  17381.599609  16913.750000  17359.750000   \n",
       "257  2023-04-03  17427.949219  17638.699219  17312.750000  17599.150391   \n",
       "258  2023-04-10  17634.900391  17842.150391  17597.949219  17828.000000   \n",
       "259  2023-04-17  17863.000000  17863.000000  17553.949219  17624.050781   \n",
       "260  2023-04-24  17707.550781  17931.599609  17612.500000  17915.050781   \n",
       "\n",
       "        Adj Close   Volume  \n",
       "0    10618.250000   775200  \n",
       "1    10806.500000  1048800  \n",
       "2    10596.400391  1093900  \n",
       "3    10605.150391  1091000  \n",
       "4    10696.200195  1528000  \n",
       "..            ...      ...  \n",
       "256  17359.750000  1067000  \n",
       "257  17599.150391   721200  \n",
       "258  17828.000000  1077700  \n",
       "259  17624.050781  1343100  \n",
       "260  17915.050781  1027500  \n",
       "\n",
       "[261 rows x 7 columns]"
      ]
     },
     "execution_count": 83,
     "metadata": {},
     "output_type": "execute_result"
    }
   ],
   "source": [
    "df"
   ]
  },
  {
   "cell_type": "code",
   "execution_count": 84,
   "metadata": {},
   "outputs": [],
   "source": [
    "data=df.reset_index()['Close']"
   ]
  },
  {
   "cell_type": "code",
   "execution_count": 85,
   "metadata": {},
   "outputs": [
    {
     "data": {
      "text/plain": [
       "0      10618.250000\n",
       "1      10806.500000\n",
       "2      10596.400391\n",
       "3      10605.150391\n",
       "4      10696.200195\n",
       "           ...     \n",
       "256    17359.750000\n",
       "257    17599.150391\n",
       "258    17828.000000\n",
       "259    17624.050781\n",
       "260    17915.050781\n",
       "Name: Close, Length: 261, dtype: float64"
      ]
     },
     "execution_count": 85,
     "metadata": {},
     "output_type": "execute_result"
    }
   ],
   "source": [
    "data"
   ]
  },
  {
   "cell_type": "code",
   "execution_count": 86,
   "metadata": {},
   "outputs": [
    {
     "data": {
      "text/plain": [
       "[<matplotlib.lines.Line2D at 0x24858efb0d0>]"
      ]
     },
     "execution_count": 86,
     "metadata": {},
     "output_type": "execute_result"
    },
    {
     "data": {
      "image/png": "[encoded data removed]",
      "text/plain": [
       "<Figure size 640x480 with 1 Axes>"
      ]
     },
     "metadata": {},
     "output_type": "display_data"
    }
   ],
   "source": [
    "import matplotlib.pyplot as plt\n",
    "plt.plot(data)"
   ]
  },
  {
   "cell_type": "code",
   "execution_count": 87,
   "metadata": {},
   "outputs": [],
   "source": [
    "import numpy as np"
   ]
  },
  {
   "cell_type": "code",
   "execution_count": 88,
   "metadata": {},
   "outputs": [],
   "source": [
    "from sklearn.preprocessing import MinMaxScaler\n",
    "scaler=MinMaxScaler(feature_range=(0,1))\n",
    "data=scaler.fit_transform(np.array(data).reshape(-1,1))"
   ]
  },
  {
   "cell_type": "code",
   "execution_count": 89,
   "metadata": {},
   "outputs": [],
   "source": [
    "training_size=int(len(data)*0.65)\n",
    "test_size=len(data)-training_size\n",
    "train_data,test_data=data[0:training_size,:],data[training_size:len(data),:1]"
   ]
  },
  {
   "cell_type": "code",
   "execution_count": 90,
   "metadata": {},
   "outputs": [
    {
     "data": {
      "text/plain": [
       "array([[0.72361789],\n",
       "       [0.76839145],\n",
       "       [0.79580298],\n",
       "       [0.78839652],\n",
       "       [0.8123969 ],\n",
       "       [0.87066894],\n",
       "       [0.87497059],\n",
       "       [0.89531494],\n",
       "       [0.92057326],\n",
       "       [0.89031135],\n",
       "       [0.92453093],\n",
       "       [0.96630807],\n",
       "       [0.94523343],\n",
       "       [0.90346586],\n",
       "       [0.92656645],\n",
       "       [0.9440885 ],\n",
       "       [0.91224345],\n",
       "       [0.84266837],\n",
       "       [0.85871108],\n",
       "       [0.88835607],\n",
       "       [0.83878137],\n",
       "       [0.84052942],\n",
       "       [0.87353836],\n",
       "       [0.91675693],\n",
       "       [0.95850573],\n",
       "       [0.89833031],\n",
       "       [0.84978276],\n",
       "       [0.88882722],\n",
       "       [0.87548885],\n",
       "       [0.86621196],\n",
       "       [0.80798703],\n",
       "       [0.76906514],\n",
       "       [0.80535318],\n",
       "       [0.86722493],\n",
       "       [0.85459329],\n",
       "       [0.90335267],\n",
       "       [0.91408554],\n",
       "       [0.88499673],\n",
       "       [0.85637888],\n",
       "       [0.84983945],\n",
       "       [0.78469798],\n",
       "       [0.72541774],\n",
       "       [0.7710252 ],\n",
       "       [0.77915726],\n",
       "       [0.8010046 ],\n",
       "       [0.76496143],\n",
       "       [0.67937208],\n",
       "       [0.71760602],\n",
       "       [0.72258136],\n",
       "       [0.76673294],\n",
       "       [0.75058192],\n",
       "       [0.81373968],\n",
       "       [0.855088  ],\n",
       "       [0.87763259],\n",
       "       [0.90596296],\n",
       "       [0.91164494],\n",
       "       [0.8928414 ],\n",
       "       [0.89100851],\n",
       "       [0.91870282],\n",
       "       [0.89019816],\n",
       "       [0.8710223 ],\n",
       "       [0.84906665],\n",
       "       [0.86982565],\n",
       "       [0.85767455],\n",
       "       [0.89448104],\n",
       "       [0.91431652],\n",
       "       [0.94544545],\n",
       "       [0.96735859],\n",
       "       [0.96339632],\n",
       "       [0.98272291],\n",
       "       [1.        ],\n",
       "       [0.98120106],\n",
       "       [0.95975428],\n",
       "       [0.91620112],\n",
       "       [0.94432886],\n",
       "       [0.9211622 ],\n",
       "       [0.93031671],\n",
       "       [0.93701184],\n",
       "       [0.89712409],\n",
       "       [0.9206535 ],\n",
       "       [0.92088429],\n",
       "       [0.92914821],\n",
       "       [0.88406859],\n",
       "       [0.89618179],\n",
       "       [0.87908378],\n",
       "       [0.84960387],\n",
       "       [0.83499818],\n",
       "       [0.8740754 ],\n",
       "       [0.89663417],\n",
       "       [0.91819873],\n",
       "       [0.89898054],\n",
       "       [0.92640155]])"
      ]
     },
     "execution_count": 90,
     "metadata": {},
     "output_type": "execute_result"
    }
   ],
   "source": [
    "test_data"
   ]
  },
  {
   "cell_type": "code",
   "execution_count": 91,
   "metadata": {},
   "outputs": [
    {
     "data": {
      "text/plain": [
       "(169, 92)"
      ]
     },
     "execution_count": 91,
     "metadata": {},
     "output_type": "execute_result"
    }
   ],
   "source": [
    "training_size,test_size"
   ]
  },
  {
   "cell_type": "code",
   "execution_count": 92,
   "metadata": {},
   "outputs": [
    {
     "data": {
      "text/plain": [
       "92"
      ]
     },
     "execution_count": 92,
     "metadata": {},
     "output_type": "execute_result"
    }
   ],
   "source": [
    "test_size"
   ]
  },
  {
   "cell_type": "code",
   "execution_count": 93,
   "metadata": {},
   "outputs": [
    {
     "data": {
      "text/plain": [
       "array([[0.23882196],\n",
       "       [0.25656081],\n",
       "       [0.23676306],\n",
       "       [0.23758758],\n",
       "       [0.24616722],\n",
       "       [0.2529    ],\n",
       "       [0.2576162 ],\n",
       "       [0.2580072 ],\n",
       "       [0.24787276],\n",
       "       [0.25337115],\n",
       "       [0.27657536],\n",
       "       [0.27575553],\n",
       "       [0.30102333],\n",
       "       [0.30879263],\n",
       "       [0.31526627],\n",
       "       [0.31915327],\n",
       "       [0.32729002],\n",
       "       [0.33891807],\n",
       "       [0.33030539],\n",
       "       [0.32334183],\n",
       "       [0.28827868],\n",
       "       [0.26824067],\n",
       "       [0.21038328],\n",
       "       [0.22508789],\n",
       "       [0.20916767],\n",
       "       [0.18339099],\n",
       "       [0.23267343],\n",
       "       [0.23570766],\n",
       "       [0.244848  ],\n",
       "       [0.23019989],\n",
       "       [0.26318048],\n",
       "       [0.24593165],\n",
       "       [0.25646188],\n",
       "       [0.25161372],\n",
       "       [0.26159274],\n",
       "       [0.24910244],\n",
       "       [0.25547246],\n",
       "       [0.26602626],\n",
       "       [0.25411551],\n",
       "       [0.26477301],\n",
       "       [0.26947974],\n",
       "       [0.24882454],\n",
       "       [0.25516152],\n",
       "       [0.26193193],\n",
       "       [0.27813015],\n",
       "       [0.31501652],\n",
       "       [0.31784822],\n",
       "       [0.33358468],\n",
       "       [0.33754704],\n",
       "       [0.33542686],\n",
       "       [0.3457309 ],\n",
       "       [0.34590528],\n",
       "       [0.34190988],\n",
       "       [0.30107523],\n",
       "       [0.31316026],\n",
       "       [0.35433411],\n",
       "       [0.36175005],\n",
       "       [0.356836  ],\n",
       "       [0.35237414],\n",
       "       [0.34302648],\n",
       "       [0.34912789],\n",
       "       [0.3512293 ],\n",
       "       [0.3268566 ],\n",
       "       [0.31430041],\n",
       "       [0.30158402],\n",
       "       [0.27454462],\n",
       "       [0.28512675],\n",
       "       [0.27929855],\n",
       "       [0.25871393],\n",
       "       [0.27698522],\n",
       "       [0.2697248 ],\n",
       "       [0.28194648],\n",
       "       [0.30063233],\n",
       "       [0.323078  ],\n",
       "       [0.29126111],\n",
       "       [0.30353929],\n",
       "       [0.33716064],\n",
       "       [0.32981546],\n",
       "       [0.35871582],\n",
       "       [0.36036963],\n",
       "       [0.35917289],\n",
       "       [0.36095857],\n",
       "       [0.37430624],\n",
       "       [0.36162757],\n",
       "       [0.37719443],\n",
       "       [0.39463642],\n",
       "       [0.39218643],\n",
       "       [0.39038198],\n",
       "       [0.39322297],\n",
       "       [0.40222665],\n",
       "       [0.39241731],\n",
       "       [0.36545328],\n",
       "       [0.37829216],\n",
       "       [0.37971509],\n",
       "       [0.37664313],\n",
       "       [0.29380533],\n",
       "       [0.27380025],\n",
       "       [0.17634259],\n",
       "       [0.0623475 ],\n",
       "       [0.05431906],\n",
       "       [0.        ],\n",
       "       [0.09687821],\n",
       "       [0.11146973],\n",
       "       [0.10088299],\n",
       "       [0.16736246],\n",
       "       [0.11003272],\n",
       "       [0.09922918],\n",
       "       [0.09003234],\n",
       "       [0.14101562],\n",
       "       [0.19395896],\n",
       "       [0.17801048],\n",
       "       [0.203594  ],\n",
       "       [0.21665428],\n",
       "       [0.23779481],\n",
       "       [0.25293763],\n",
       "       [0.26553155],\n",
       "       [0.29308921],\n",
       "       [0.2817156 ],\n",
       "       [0.29496434],\n",
       "       [0.29160508],\n",
       "       [0.3098103 ],\n",
       "       [0.33581786],\n",
       "       [0.30625311],\n",
       "       [0.31855964],\n",
       "       [0.32237596],\n",
       "       [0.27952944],\n",
       "       [0.3140837 ],\n",
       "       [0.36093971],\n",
       "       [0.34664026],\n",
       "       [0.36246147],\n",
       "       [0.33532794],\n",
       "       [0.39385902],\n",
       "       [0.43686576],\n",
       "       [0.44997315],\n",
       "       [0.4603291 ],\n",
       "       [0.48761815],\n",
       "       [0.51167512],\n",
       "       [0.53492175],\n",
       "       [0.53385697],\n",
       "       [0.55922847],\n",
       "       [0.59020668],\n",
       "       [0.5983529 ],\n",
       "       [0.59252949],\n",
       "       [0.52305343],\n",
       "       [0.64457755],\n",
       "       [0.66710328],\n",
       "       [0.64999579],\n",
       "       [0.6073472 ],\n",
       "       [0.6458826 ],\n",
       "       [0.65463194],\n",
       "       [0.62759254],\n",
       "       [0.60528821],\n",
       "       [0.63921581],\n",
       "       [0.63615332],\n",
       "       [0.61570535],\n",
       "       [0.58965068],\n",
       "       [0.6169539 ],\n",
       "       [0.6350509 ],\n",
       "       [0.62135448],\n",
       "       [0.66823404],\n",
       "       [0.69276695],\n",
       "       [0.71487334],\n",
       "       [0.72703843],\n",
       "       [0.71610772],\n",
       "       [0.73278648],\n",
       "       [0.71976862],\n",
       "       [0.71671552],\n",
       "       [0.73872777],\n",
       "       [0.73238131]])"
      ]
     },
     "execution_count": 93,
     "metadata": {},
     "output_type": "execute_result"
    }
   ],
   "source": [
    "train_data"
   ]
  },
  {
   "cell_type": "code",
   "execution_count": 94,
   "metadata": {},
   "outputs": [],
   "source": [
    "import numpy\n",
    "# convert an array of values into a dataset matrix\n",
    "def create_dataset(dataset, time_step=1):\n",
    "\tdataX, dataY = [], []\n",
    "\tfor i in range(len(dataset)-time_step-1):\n",
    "\t\ta = dataset[i:(i+time_step), 0]   ###i=0, 0,1,2,3-----99   100 \n",
    "\t\tdataX.append(a)\n",
    "\t\tdataY.append(dataset[i + time_step, 0])\n",
    "\treturn numpy.array(dataX), numpy.array(dataY)"
   ]
  },
  {
   "cell_type": "code",
   "execution_count": 95,
   "metadata": {},
   "outputs": [],
   "source": [
    "# reshape into X=t,t+1,t+2,t+3 and Y=t+4\n",
    "time_step = 90\n",
    "X_train, y_train = create_dataset(train_data, time_step)\n",
    "X_test, y_test = create_dataset(test_data, time_step)"
   ]
  },
  {
   "cell_type": "code",
   "execution_count": 96,
   "metadata": {},
   "outputs": [
    {
     "data": {
      "text/plain": [
       "array([0.89898054])"
      ]
     },
     "execution_count": 96,
     "metadata": {},
     "output_type": "execute_result"
    }
   ],
   "source": [
    "y_test"
   ]
  },
  {
   "cell_type": "code",
   "execution_count": 97,
   "metadata": {},
   "outputs": [
    {
     "data": {
      "text/plain": [
       "array([[0.72361789, 0.76839145, 0.79580298, 0.78839652, 0.8123969 ,\n",
       "        0.87066894, 0.87497059, 0.89531494, 0.92057326, 0.89031135,\n",
       "        0.92453093, 0.96630807, 0.94523343, 0.90346586, 0.92656645,\n",
       "        0.9440885 , 0.91224345, 0.84266837, 0.85871108, 0.88835607,\n",
       "        0.83878137, 0.84052942, 0.87353836, 0.91675693, 0.95850573,\n",
       "        0.89833031, 0.84978276, 0.88882722, 0.87548885, 0.86621196,\n",
       "        0.80798703, 0.76906514, 0.80535318, 0.86722493, 0.85459329,\n",
       "        0.90335267, 0.91408554, 0.88499673, 0.85637888, 0.84983945,\n",
       "        0.78469798, 0.72541774, 0.7710252 , 0.77915726, 0.8010046 ,\n",
       "        0.76496143, 0.67937208, 0.71760602, 0.72258136, 0.76673294,\n",
       "        0.75058192, 0.81373968, 0.855088  , 0.87763259, 0.90596296,\n",
       "        0.91164494, 0.8928414 , 0.89100851, 0.91870282, 0.89019816,\n",
       "        0.8710223 , 0.84906665, 0.86982565, 0.85767455, 0.89448104,\n",
       "        0.91431652, 0.94544545, 0.96735859, 0.96339632, 0.98272291,\n",
       "        1.        , 0.98120106, 0.95975428, 0.91620112, 0.94432886,\n",
       "        0.9211622 , 0.93031671, 0.93701184, 0.89712409, 0.9206535 ,\n",
       "        0.92088429, 0.92914821, 0.88406859, 0.89618179, 0.87908378,\n",
       "        0.84960387, 0.83499818, 0.8740754 , 0.89663417, 0.91819873]])"
      ]
     },
     "execution_count": 97,
     "metadata": {},
     "output_type": "execute_result"
    }
   ],
   "source": [
    "X_test"
   ]
  },
  {
   "cell_type": "code",
   "execution_count": 98,
   "metadata": {},
   "outputs": [
    {
     "name": "stdout",
     "output_type": "stream",
     "text": [
      "(78, 90)\n",
      "(1, 90)\n"
     ]
    }
   ],
   "source": [
    "print(X_train.shape)  # Check the shape of X_train\n",
    "print(X_test.shape)   # Check the shape of X_test\n",
    "\n"
   ]
  },
  {
   "cell_type": "code",
   "execution_count": 99,
   "metadata": {},
   "outputs": [],
   "source": [
    "# reshape input to be [samples, time steps, features] which is required for LSTM\n",
    "X_train =X_train.reshape(X_train.shape[0],X_train.shape[1] , 1)\n",
    "X_test = X_test.reshape(X_test.shape[0],X_test.shape[1] ,1)"
   ]
  },
  {
   "cell_type": "code",
   "execution_count": 100,
   "metadata": {},
   "outputs": [],
   "source": [
    "### Create the Stacked LSTM model\n",
    "from tensorflow.keras.models import Sequential\n",
    "from tensorflow.keras.layers import Dense\n",
    "from tensorflow.keras.layers import LSTM"
   ]
  },
  {
   "cell_type": "code",
   "execution_count": 105,
   "metadata": {},
   "outputs": [],
   "source": [
    "model=Sequential()\n",
    "model.add(LSTM(50,return_sequences=True,input_shape=(90,1)))\n",
    "model.add(LSTM(50,return_sequences=True))\n",
    "model.add(LSTM(50))\n",
    "model.add(Dense(1))\n",
    "model.compile(loss='mean_squared_error',optimizer='adam')"
   ]
  },
  {
   "cell_type": "code",
   "execution_count": 106,
   "metadata": {},
   "outputs": [
    {
     "name": "stdout",
     "output_type": "stream",
     "text": [
      "Model: \"sequential_4\"\n",
      "_________________________________________________________________\n",
      " Layer (type)                Output Shape              Param #   \n",
      "=================================================================\n",
      " lstm_12 (LSTM)              (None, 90, 50)            10400     \n",
      "                                                                 \n",
      " lstm_13 (LSTM)              (None, 90, 50)            20200     \n",
      "                                                                 \n",
      " lstm_14 (LSTM)              (None, 50)                20200     \n",
      "                                                                 \n",
      " dense_4 (Dense)             (None, 1)                 51        \n",
      "                                                                 \n",
      "=================================================================\n",
      "Total params: 50851 (198.64 KB)\n",
      "Trainable params: 50851 (198.64 KB)\n",
      "Non-trainable params: 0 (0.00 Byte)\n",
      "_________________________________________________________________\n"
     ]
    }
   ],
   "source": [
    "model.summary()"
   ]
  },
  {
   "cell_type": "code",
   "execution_count": 107,
   "metadata": {},
   "outputs": [
    {
     "name": "stdout",
     "output_type": "stream",
     "text": [
      "Model: \"sequential_4\"\n",
      "_________________________________________________________________\n",
      " Layer (type)                Output Shape              Param #   \n",
      "=================================================================\n",
      " lstm_12 (LSTM)              (None, 90, 50)            10400     \n",
      "                                                                 \n",
      " lstm_13 (LSTM)              (None, 90, 50)            20200     \n",
      "                                                                 \n",
      " lstm_14 (LSTM)              (None, 50)                20200     \n",
      "                                                                 \n",
      " dense_4 (Dense)             (None, 1)                 51        \n",
      "                                                                 \n",
      "=================================================================\n",
      "Total params: 50851 (198.64 KB)\n",
      "Trainable params: 50851 (198.64 KB)\n",
      "Non-trainable params: 0 (0.00 Byte)\n",
      "_________________________________________________________________\n"
     ]
    }
   ],
   "source": [
    "model.summary()"
   ]
  },
  {
   "cell_type": "code",
   "execution_count": 108,
   "metadata": {},
   "outputs": [
    {
     "name": "stdout",
     "output_type": "stream",
     "text": [
      "Epoch 1/90\n",
      "2/2 [==============================] - 10s 2s/step - loss: 0.1922 - val_loss: 0.3034\n",
      "Epoch 2/90\n",
      "2/2 [==============================] - 0s 130ms/step - loss: 0.0863 - val_loss: 0.0093\n",
      "Epoch 3/90\n",
      "2/2 [==============================] - 0s 133ms/step - loss: 0.0270 - val_loss: 0.0733\n",
      "Epoch 4/90\n",
      "2/2 [==============================] - 0s 132ms/step - loss: 0.0429 - val_loss: 0.0149\n",
      "Epoch 5/90\n",
      "2/2 [==============================] - 0s 132ms/step - loss: 0.0239 - val_loss: 0.0072\n",
      "Epoch 6/90\n",
      "2/2 [==============================] - 0s 129ms/step - loss: 0.0187 - val_loss: 0.0442\n",
      "Epoch 7/90\n",
      "2/2 [==============================] - 0s 132ms/step - loss: 0.0263 - val_loss: 0.0617\n",
      "Epoch 8/90\n",
      "2/2 [==============================] - 0s 132ms/step - loss: 0.0287 - val_loss: 0.0481\n",
      "Epoch 9/90\n",
      "2/2 [==============================] - 0s 131ms/step - loss: 0.0250 - val_loss: 0.0244\n",
      "Epoch 10/90\n",
      "2/2 [==============================] - 0s 152ms/step - loss: 0.0193 - val_loss: 0.0053\n",
      "Epoch 11/90\n",
      "2/2 [==============================] - 0s 139ms/step - loss: 0.0162 - val_loss: 2.7285e-04\n",
      "Epoch 12/90\n",
      "2/2 [==============================] - 0s 155ms/step - loss: 0.0170 - val_loss: 0.0056\n",
      "Epoch 13/90\n",
      "2/2 [==============================] - 0s 151ms/step - loss: 0.0198 - val_loss: 0.0045\n",
      "Epoch 14/90\n",
      "2/2 [==============================] - 0s 144ms/step - loss: 0.0184 - val_loss: 1.4761e-05\n",
      "Epoch 15/90\n",
      "2/2 [==============================] - 0s 144ms/step - loss: 0.0154 - val_loss: 0.0040\n",
      "Epoch 16/90\n",
      "2/2 [==============================] - 0s 140ms/step - loss: 0.0148 - val_loss: 0.0115\n",
      "Epoch 17/90\n",
      "2/2 [==============================] - 0s 139ms/step - loss: 0.0160 - val_loss: 0.0148\n",
      "Epoch 18/90\n",
      "2/2 [==============================] - 0s 136ms/step - loss: 0.0165 - val_loss: 0.0099\n",
      "Epoch 19/90\n",
      "2/2 [==============================] - 0s 136ms/step - loss: 0.0154 - val_loss: 0.0021\n",
      "Epoch 20/90\n",
      "2/2 [==============================] - 0s 150ms/step - loss: 0.0136 - val_loss: 2.6270e-04\n",
      "Epoch 21/90\n",
      "2/2 [==============================] - 0s 133ms/step - loss: 0.0135 - val_loss: 0.0045\n",
      "Epoch 22/90\n",
      "2/2 [==============================] - 0s 133ms/step - loss: 0.0144 - val_loss: 0.0052\n",
      "Epoch 23/90\n",
      "2/2 [==============================] - 0s 132ms/step - loss: 0.0140 - val_loss: 9.0429e-04\n",
      "Epoch 24/90\n",
      "2/2 [==============================] - 0s 134ms/step - loss: 0.0128 - val_loss: 3.2527e-04\n",
      "Epoch 25/90\n",
      "2/2 [==============================] - 0s 133ms/step - loss: 0.0126 - val_loss: 0.0010\n",
      "Epoch 26/90\n",
      "2/2 [==============================] - 0s 134ms/step - loss: 0.0125 - val_loss: 1.0928e-04\n",
      "Epoch 27/90\n",
      "2/2 [==============================] - 0s 125ms/step - loss: 0.0120 - val_loss: 7.1014e-04\n",
      "Epoch 28/90\n",
      "2/2 [==============================] - 0s 133ms/step - loss: 0.0117 - val_loss: 0.0033\n",
      "Epoch 29/90\n",
      "2/2 [==============================] - 0s 130ms/step - loss: 0.0118 - val_loss: 0.0044\n",
      "Epoch 30/90\n",
      "2/2 [==============================] - 0s 135ms/step - loss: 0.0117 - val_loss: 0.0019\n",
      "Epoch 31/90\n",
      "2/2 [==============================] - 0s 129ms/step - loss: 0.0112 - val_loss: 8.4162e-06\n",
      "Epoch 32/90\n",
      "2/2 [==============================] - 0s 133ms/step - loss: 0.0109 - val_loss: 2.4292e-04\n",
      "Epoch 33/90\n",
      "2/2 [==============================] - 0s 137ms/step - loss: 0.0109 - val_loss: 2.7180e-05\n",
      "Epoch 34/90\n",
      "2/2 [==============================] - 0s 131ms/step - loss: 0.0106 - val_loss: 3.1947e-04\n",
      "Epoch 35/90\n",
      "2/2 [==============================] - 0s 132ms/step - loss: 0.0103 - val_loss: 4.5928e-04\n",
      "Epoch 36/90\n",
      "2/2 [==============================] - 0s 131ms/step - loss: 0.0102 - val_loss: 2.7389e-05\n",
      "Epoch 37/90\n",
      "2/2 [==============================] - 0s 138ms/step - loss: 0.0100 - val_loss: 3.7309e-04\n",
      "Epoch 38/90\n",
      "2/2 [==============================] - 0s 130ms/step - loss: 0.0100 - val_loss: 4.8148e-04\n",
      "Epoch 39/90\n",
      "2/2 [==============================] - 0s 127ms/step - loss: 0.0099 - val_loss: 2.2767e-05\n",
      "Epoch 40/90\n",
      "2/2 [==============================] - 0s 132ms/step - loss: 0.0095 - val_loss: 1.2550e-05\n",
      "Epoch 41/90\n",
      "2/2 [==============================] - 0s 133ms/step - loss: 0.0093 - val_loss: 4.3947e-07\n",
      "Epoch 42/90\n",
      "2/2 [==============================] - 0s 134ms/step - loss: 0.0092 - val_loss: 3.3081e-04\n",
      "Epoch 43/90\n",
      "2/2 [==============================] - 0s 132ms/step - loss: 0.0092 - val_loss: 1.9973e-04\n",
      "Epoch 44/90\n",
      "2/2 [==============================] - 0s 133ms/step - loss: 0.0089 - val_loss: 0.0017\n",
      "Epoch 45/90\n",
      "2/2 [==============================] - 0s 131ms/step - loss: 0.0089 - val_loss: 0.0068\n",
      "Epoch 46/90\n",
      "2/2 [==============================] - 0s 130ms/step - loss: 0.0093 - val_loss: 0.0048\n",
      "Epoch 47/90\n",
      "2/2 [==============================] - 0s 133ms/step - loss: 0.0087 - val_loss: 6.5342e-04\n",
      "Epoch 48/90\n",
      "2/2 [==============================] - 0s 133ms/step - loss: 0.0082 - val_loss: 5.3034e-04\n",
      "Epoch 49/90\n",
      "2/2 [==============================] - 0s 131ms/step - loss: 0.0089 - val_loss: 4.6955e-04\n",
      "Epoch 50/90\n",
      "2/2 [==============================] - 0s 132ms/step - loss: 0.0087 - val_loss: 0.0033\n",
      "Epoch 51/90\n",
      "2/2 [==============================] - 0s 132ms/step - loss: 0.0078 - val_loss: 0.0206\n",
      "Epoch 52/90\n",
      "2/2 [==============================] - 0s 135ms/step - loss: 0.0097 - val_loss: 0.0148\n",
      "Epoch 53/90\n",
      "2/2 [==============================] - 0s 136ms/step - loss: 0.0085 - val_loss: 2.8544e-04\n",
      "Epoch 54/90\n",
      "2/2 [==============================] - 0s 134ms/step - loss: 0.0080 - val_loss: 4.6874e-04\n",
      "Epoch 55/90\n",
      "2/2 [==============================] - 0s 136ms/step - loss: 0.0088 - val_loss: 6.5268e-04\n",
      "Epoch 56/90\n",
      "2/2 [==============================] - 0s 133ms/step - loss: 0.0077 - val_loss: 0.0047\n",
      "Epoch 57/90\n",
      "2/2 [==============================] - 0s 136ms/step - loss: 0.0074 - val_loss: 0.0051\n",
      "Epoch 58/90\n",
      "2/2 [==============================] - 0s 130ms/step - loss: 0.0073 - val_loss: 0.0030\n",
      "Epoch 59/90\n",
      "2/2 [==============================] - 0s 139ms/step - loss: 0.0072 - val_loss: 0.0031\n",
      "Epoch 60/90\n",
      "2/2 [==============================] - 0s 134ms/step - loss: 0.0071 - val_loss: 0.0042\n",
      "Epoch 61/90\n",
      "2/2 [==============================] - 0s 130ms/step - loss: 0.0070 - val_loss: 0.0051\n",
      "Epoch 62/90\n",
      "2/2 [==============================] - 0s 131ms/step - loss: 0.0069 - val_loss: 0.0048\n",
      "Epoch 63/90\n",
      "2/2 [==============================] - 0s 129ms/step - loss: 0.0068 - val_loss: 0.0053\n",
      "Epoch 64/90\n",
      "2/2 [==============================] - 0s 128ms/step - loss: 0.0067 - val_loss: 0.0041\n",
      "Epoch 65/90\n",
      "2/2 [==============================] - 0s 134ms/step - loss: 0.0065 - val_loss: 0.0011\n",
      "Epoch 66/90\n",
      "2/2 [==============================] - 0s 136ms/step - loss: 0.0065 - val_loss: 0.0011\n",
      "Epoch 67/90\n",
      "2/2 [==============================] - 0s 135ms/step - loss: 0.0063 - val_loss: 0.0055\n",
      "Epoch 68/90\n",
      "2/2 [==============================] - 0s 125ms/step - loss: 0.0065 - val_loss: 0.0046\n",
      "Epoch 69/90\n",
      "2/2 [==============================] - 0s 138ms/step - loss: 0.0062 - val_loss: 1.3651e-05\n",
      "Epoch 70/90\n",
      "2/2 [==============================] - 0s 135ms/step - loss: 0.0062 - val_loss: 2.6322e-04\n",
      "Epoch 71/90\n",
      "2/2 [==============================] - 0s 133ms/step - loss: 0.0063 - val_loss: 0.0011\n",
      "Epoch 72/90\n",
      "2/2 [==============================] - 0s 135ms/step - loss: 0.0059 - val_loss: 0.0039\n",
      "Epoch 73/90\n",
      "2/2 [==============================] - 0s 135ms/step - loss: 0.0059 - val_loss: 0.0014\n",
      "Epoch 74/90\n",
      "2/2 [==============================] - 0s 135ms/step - loss: 0.0056 - val_loss: 2.9904e-04\n",
      "Epoch 75/90\n",
      "2/2 [==============================] - 0s 132ms/step - loss: 0.0060 - val_loss: 0.0016\n",
      "Epoch 76/90\n",
      "2/2 [==============================] - 0s 132ms/step - loss: 0.0061 - val_loss: 4.8952e-04\n",
      "Epoch 77/90\n",
      "2/2 [==============================] - 0s 131ms/step - loss: 0.0054 - val_loss: 0.0031\n",
      "Epoch 78/90\n",
      "2/2 [==============================] - 0s 128ms/step - loss: 0.0057 - val_loss: 2.4237e-04\n",
      "Epoch 79/90\n",
      "2/2 [==============================] - 0s 131ms/step - loss: 0.0052 - val_loss: 0.0020\n",
      "Epoch 80/90\n",
      "2/2 [==============================] - 0s 130ms/step - loss: 0.0056 - val_loss: 6.7293e-04\n",
      "Epoch 81/90\n",
      "2/2 [==============================] - 0s 136ms/step - loss: 0.0053 - val_loss: 2.3010e-04\n",
      "Epoch 82/90\n",
      "2/2 [==============================] - 0s 134ms/step - loss: 0.0051 - val_loss: 2.4640e-05\n",
      "Epoch 83/90\n",
      "2/2 [==============================] - 0s 133ms/step - loss: 0.0049 - val_loss: 0.0018\n",
      "Epoch 84/90\n",
      "2/2 [==============================] - 0s 137ms/step - loss: 0.0051 - val_loss: 4.6828e-05\n",
      "Epoch 85/90\n",
      "2/2 [==============================] - 0s 132ms/step - loss: 0.0048 - val_loss: 0.0021\n",
      "Epoch 86/90\n",
      "2/2 [==============================] - 0s 132ms/step - loss: 0.0053 - val_loss: 9.2739e-04\n",
      "Epoch 87/90\n",
      "2/2 [==============================] - 0s 132ms/step - loss: 0.0049 - val_loss: 0.0029\n",
      "Epoch 88/90\n",
      "2/2 [==============================] - 0s 132ms/step - loss: 0.0052 - val_loss: 0.0034\n",
      "Epoch 89/90\n",
      "2/2 [==============================] - 0s 132ms/step - loss: 0.0047 - val_loss: 0.0015\n",
      "Epoch 90/90\n",
      "2/2 [==============================] - 0s 128ms/step - loss: 0.0052 - val_loss: 4.9396e-04\n"
     ]
    },
    {
     "data": {
      "text/plain": [
       "<keras.src.callbacks.History at 0x2485924f970>"
      ]
     },
     "execution_count": 108,
     "metadata": {},
     "output_type": "execute_result"
    }
   ],
   "source": [
    "model.fit(X_train,y_train,validation_data=(X_test,y_test),epochs=90,batch_size=64,verbose=1)"
   ]
  },
  {
   "cell_type": "code",
   "execution_count": 109,
   "metadata": {},
   "outputs": [],
   "source": [
    "import tensorflow as tf"
   ]
  },
  {
   "cell_type": "code",
   "execution_count": 110,
   "metadata": {},
   "outputs": [
    {
     "data": {
      "text/plain": [
       "'2.13.0'"
      ]
     },
     "execution_count": 110,
     "metadata": {},
     "output_type": "execute_result"
    }
   ],
   "source": [
    "tf.__version__\n"
   ]
  },
  {
   "cell_type": "code",
   "execution_count": 111,
   "metadata": {},
   "outputs": [
    {
     "name": "stdout",
     "output_type": "stream",
     "text": [
      "3/3 [==============================] - 2s 41ms/step\n",
      "1/1 [==============================] - 0s 48ms/step\n"
     ]
    }
   ],
   "source": [
    "### Lets Do the prediction and check performance metrics\n",
    "train_predict=model.predict(X_train)\n",
    "test_predict=model.predict(X_test)\n",
    "\n"
   ]
  },
  {
   "cell_type": "code",
   "execution_count": 112,
   "metadata": {},
   "outputs": [],
   "source": [
    "##Transformback to original form\n",
    "train_predict=scaler.inverse_transform(train_predict)\n",
    "test_predict=scaler.inverse_transform(test_predict)\n"
   ]
  },
  {
   "cell_type": "code",
   "execution_count": 114,
   "metadata": {},
   "outputs": [
    {
     "data": {
      "text/plain": [
       "12461.646070276141"
      ]
     },
     "execution_count": 114,
     "metadata": {},
     "output_type": "execute_result"
    }
   ],
   "source": [
    "### Calculate RMSE performance metrics\n",
    "import math\n",
    "from sklearn.metrics import mean_squared_error\n",
    "math.sqrt(mean_squared_error(y_train,train_predict))"
   ]
  },
  {
   "cell_type": "code",
   "execution_count": 116,
   "metadata": {},
   "outputs": [
    {
     "data": {
      "text/plain": [
       "17387.290472588058"
      ]
     },
     "execution_count": 116,
     "metadata": {},
     "output_type": "execute_result"
    }
   ],
   "source": [
    "### Test Data RMSE\n",
    "math.sqrt(mean_squared_error(y_test,test_predict))"
   ]
  },
  {
   "cell_type": "code",
   "execution_count": 117,
   "metadata": {},
   "outputs": [
    {
     "data": {
      "image/png": "[encoded data removed]",
      "text/plain": [
       "<Figure size 640x480 with 1 Axes>"
      ]
     },
     "metadata": {},
     "output_type": "display_data"
    }
   ],
   "source": [
    "### Plotting \n",
    "# shift train predictions for plotting\n",
    "look_back=100\n",
    "trainPredictPlot = numpy.empty_like(df1)\n",
    "trainPredictPlot[:, :] = np.nan\n",
    "trainPredictPlot[look_back:len(train_predict)+look_back, :] = train_predict\n",
    "# shift test predictions for plotting\n",
    "testPredictPlot = numpy.empty_like(df1)\n",
    "testPredictPlot[:, :] = numpy.nan\n",
    "testPredictPlot[len(train_predict)+(look_back*2)+1:len(df1)-1, :] = test_predict\n",
    "# plot baseline and predictions\n",
    "plt.plot(scaler.inverse_transform(df1))\n",
    "plt.plot(trainPredictPlot)\n",
    "plt.plot(testPredictPlot)\n",
    "plt.show()"
   ]
  },
  {
   "cell_type": "code",
   "execution_count": 123,
   "metadata": {},
   "outputs": [
    {
     "name": "stdout",
     "output_type": "stream",
     "text": [
      "Data saved to data.pickle.\n"
     ]
    }
   ],
   "source": [
    "import pickle\n",
    "\n",
    "# Assuming X_train and X_test are your data arrays\n",
    "\n",
    "# Reshape the data (as shown in your previous code)\n",
    "X_train_reshaped = X_train.reshape(X_train.shape[0], X_train.shape[1], 1)\n",
    "X_test_reshaped = X_test.reshape(X_test.shape[0], X_test.shape[1], 1)\n",
    "\n",
    "# Create a dictionary to hold the data\n",
    "data = {\n",
    "    'X_train': X_train_reshaped,\n",
    "    'X_test': X_test_reshaped\n",
    "}\n",
    "\n",
    "# Specify the path and filename for the pickle file\n",
    "filename = 'data.pickle'\n",
    "\n",
    "# Pickle the data and save it to the file\n",
    "with open(filename, 'wb') as f:\n",
    "    pickle.dump(data, f)\n",
    "\n",
    "print(f\"Data saved to {filename}.\")\n"
   ]
  },
  {
   "cell_type": "code",
   "execution_count": null,
   "metadata": {},
   "outputs": [],
   "source": []
  }
 ],
 "metadata": {
  "kernelspec": {
   "display_name": "base",
   "language": "python",
   "name": "python3"
  },
  "language_info": {
   "codemirror_mode": {
    "name": "ipython",
    "version": 3
   },
   "file_extension": ".py",
   "mimetype": "text/x-python",
   "name": "python",
   "nbconvert_exporter": "python",
   "pygments_lexer": "ipython3",
   "version": "3.10.9"
  },
  "orig_nbformat": 4
 },
 "nbformat": 4,
 "nbformat_minor": 2
}
